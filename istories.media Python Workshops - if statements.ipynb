{
 "cells": [
  {
   "cell_type": "code",
   "execution_count": 49,
   "metadata": {},
   "outputs": [],
   "source": [
    "#Assume we need to determine tax payable based on type of income\n",
    "#This is an exercise in using loops and input()"
   ]
  },
  {
   "cell_type": "code",
   "execution_count": 1,
   "metadata": {},
   "outputs": [
    {
     "name": "stdout",
     "output_type": "stream",
     "text": [
      "John Smith\n"
     ]
    }
   ],
   "source": [
    "name = input()"
   ]
  },
  {
   "cell_type": "code",
   "execution_count": 2,
   "metadata": {},
   "outputs": [
    {
     "name": "stdout",
     "output_type": "stream",
     "text": [
      "LLC\n"
     ]
    }
   ],
   "source": [
    "business_type = input()"
   ]
  },
  {
   "cell_type": "code",
   "execution_count": 3,
   "metadata": {},
   "outputs": [
    {
     "name": "stdout",
     "output_type": "stream",
     "text": [
      "999\n"
     ]
    }
   ],
   "source": [
    "income = input()"
   ]
  },
  {
   "cell_type": "code",
   "execution_count": 4,
   "metadata": {},
   "outputs": [],
   "source": [
    "#checking types"
   ]
  },
  {
   "cell_type": "code",
   "execution_count": 5,
   "metadata": {},
   "outputs": [],
   "source": [
    "name_t = type(name)\n",
    "btype_t = type(business_type)\n",
    "income_t = type(income)"
   ]
  },
  {
   "cell_type": "code",
   "execution_count": 6,
   "metadata": {},
   "outputs": [
    {
     "data": {
      "text/plain": [
       "\"<class 'str'> <class 'str'> <class 'str'>\""
      ]
     },
     "execution_count": 6,
     "metadata": {},
     "output_type": "execute_result"
    }
   ],
   "source": [
    "f\"{name_t} {btype_t} {income_t}\""
   ]
  },
  {
   "cell_type": "code",
   "execution_count": 7,
   "metadata": {},
   "outputs": [],
   "source": [
    "#that's not good - we need income to be float or at least int"
   ]
  },
  {
   "cell_type": "code",
   "execution_count": 9,
   "metadata": {},
   "outputs": [
    {
     "data": {
      "text/plain": [
       "\"<class 'int'>\""
      ]
     },
     "execution_count": 9,
     "metadata": {},
     "output_type": "execute_result"
    }
   ],
   "source": [
    "income = int(income)\n",
    "income_t = type(income)\n",
    "f\"{income_t}\""
   ]
  },
  {
   "cell_type": "code",
   "execution_count": 11,
   "metadata": {},
   "outputs": [],
   "source": [
    "#Assume LLC companies pay a 15% tax"
   ]
  },
  {
   "cell_type": "code",
   "execution_count": 15,
   "metadata": {},
   "outputs": [],
   "source": [
    "if business_type == 'LLC':\n",
    "    tax = income * 0.15\n",
    "    net_income = income - tax"
   ]
  },
  {
   "cell_type": "code",
   "execution_count": 18,
   "metadata": {},
   "outputs": [
    {
     "data": {
      "text/plain": [
       "'Dear John Smith, your tax payable is 149.85, and your net income is 849.15'"
      ]
     },
     "execution_count": 18,
     "metadata": {},
     "output_type": "execute_result"
    }
   ],
   "source": [
    "f'Dear {name}, your tax payable is {tax}, and your net income is {net_income}'"
   ]
  },
  {
   "cell_type": "code",
   "execution_count": 20,
   "metadata": {},
   "outputs": [],
   "source": [
    "#that worked! now I'll try a more complex logic\n",
    "#assume freelancers and sole proprietorships pay a 20% tax\n",
    "#assume further that everybody else is an employee and pays a 10% tax"
   ]
  },
  {
   "cell_type": "code",
   "execution_count": 21,
   "metadata": {},
   "outputs": [
    {
     "data": {
      "text/plain": [
       "'Dear John Smith, your tax payable is 149.85, and your net income is 849.15'"
      ]
     },
     "execution_count": 21,
     "metadata": {},
     "output_type": "execute_result"
    }
   ],
   "source": [
    "if business_type == 'LLC':\n",
    "    tax = income * 0.15\n",
    "elif business_type == 'freelance' or business_type == 'sole proprietorship':\n",
    "    tax = income * 0.2\n",
    "else:\n",
    "    tax = income * 0.1\n",
    "    \n",
    "net_income = income - tax\n",
    "f'Dear {name}, your tax payable is {tax}, and your net income is {net_income}'"
   ]
  },
  {
   "cell_type": "code",
   "execution_count": 1,
   "metadata": {},
   "outputs": [
    {
     "name": "stdout",
     "output_type": "stream",
     "text": [
      "Jack Brown\n"
     ]
    }
   ],
   "source": [
    "#at least I didn't break anything that worked before!\n",
    "#now I'll redefine the inputs\n",
    "name = input()"
   ]
  },
  {
   "cell_type": "code",
   "execution_count": 2,
   "metadata": {},
   "outputs": [
    {
     "name": "stdout",
     "output_type": "stream",
     "text": [
      "freelance\n"
     ]
    }
   ],
   "source": [
    "business_type = input()"
   ]
  },
  {
   "cell_type": "code",
   "execution_count": 5,
   "metadata": {},
   "outputs": [
    {
     "name": "stdout",
     "output_type": "stream",
     "text": [
      "1000\n"
     ]
    }
   ],
   "source": [
    "income = int(input())"
   ]
  },
  {
   "cell_type": "code",
   "execution_count": 6,
   "metadata": {},
   "outputs": [
    {
     "data": {
      "text/plain": [
       "'Dear Jack Brown, your tax payable is 200.0, and your net income is 800.0'"
      ]
     },
     "execution_count": 6,
     "metadata": {},
     "output_type": "execute_result"
    }
   ],
   "source": [
    "if business_type == 'LLC':\n",
    "    tax = income * 0.15\n",
    "elif business_type == 'freelance' or business_type == 'sole proprietorship':\n",
    "    tax = income * 0.2\n",
    "else:\n",
    "    tax = income * 0.1\n",
    "    \n",
    "net_income = income - tax\n",
    "f'Dear {name}, your tax payable is {tax}, and your net income is {net_income}'"
   ]
  },
  {
   "cell_type": "code",
   "execution_count": 7,
   "metadata": {},
   "outputs": [],
   "source": [
    "#cool, but copying a bunch of code to run again is a chore\n",
    "#what if I could make it into a function?"
   ]
  },
  {
   "cell_type": "code",
   "execution_count": 23,
   "metadata": {},
   "outputs": [],
   "source": [
    "def tax_calc(name, business_type, income):\n",
    "    if business_type == 'LLC':\n",
    "        tax = income * 0.15\n",
    "    elif business_type == 'freelance' or business_type == 'sole proprietorship':\n",
    "        tax = income * 0.2\n",
    "    else:\n",
    "        tax = income * 0.1\n",
    "    net_income = income - tax\n",
    "    f'Dear {name}, your tax payable is {tax}, and your net income is {net_income}'"
   ]
  },
  {
   "cell_type": "code",
   "execution_count": 10,
   "metadata": {},
   "outputs": [],
   "source": [
    "#well, it didn't break... but does it call?"
   ]
  },
  {
   "cell_type": "code",
   "execution_count": 11,
   "metadata": {},
   "outputs": [
    {
     "name": "stdout",
     "output_type": "stream",
     "text": [
      "Bobby Tables\n"
     ]
    }
   ],
   "source": [
    "name_in = input()"
   ]
  },
  {
   "cell_type": "code",
   "execution_count": 13,
   "metadata": {},
   "outputs": [
    {
     "name": "stdout",
     "output_type": "stream",
     "text": [
      "employee\n"
     ]
    }
   ],
   "source": [
    "bt_in = input()"
   ]
  },
  {
   "cell_type": "code",
   "execution_count": 15,
   "metadata": {},
   "outputs": [
    {
     "name": "stdout",
     "output_type": "stream",
     "text": [
      "100\n"
     ]
    }
   ],
   "source": [
    "income_in = int(input())"
   ]
  },
  {
   "cell_type": "code",
   "execution_count": 17,
   "metadata": {},
   "outputs": [],
   "source": [
    "tax_calc(name_in, bt_in, income_in)"
   ]
  },
  {
   "cell_type": "code",
   "execution_count": 18,
   "metadata": {},
   "outputs": [],
   "source": [
    "#something isn't right..."
   ]
  },
  {
   "cell_type": "code",
   "execution_count": 19,
   "metadata": {},
   "outputs": [
    {
     "name": "stdout",
     "output_type": "stream",
     "text": [
      "200.0\n"
     ]
    }
   ],
   "source": [
    "print(tax)"
   ]
  },
  {
   "cell_type": "code",
   "execution_count": 21,
   "metadata": {},
   "outputs": [],
   "source": [
    "tax_calc(name_in, bt_in, income_in)"
   ]
  },
  {
   "cell_type": "code",
   "execution_count": 22,
   "metadata": {},
   "outputs": [],
   "source": [
    "tax_calc(\"Bobby Tables\", \"Employee\", 100)"
   ]
  },
  {
   "cell_type": "code",
   "execution_count": 25,
   "metadata": {},
   "outputs": [
    {
     "name": "stdout",
     "output_type": "stream",
     "text": [
      "Dear {name}, your tax payable is {tax}, and your net income is {net_income}\n"
     ]
    }
   ],
   "source": [
    "#quick check on SO suggests print works better than fstrings\n",
    "def tax_calc(name, business_type, income):\n",
    "    if business_type == 'LLC':\n",
    "        tax = income * 0.15\n",
    "    elif business_type == 'freelance' or business_type == 'sole proprietorship':\n",
    "        tax = income * 0.2\n",
    "    else:\n",
    "        tax = income * 0.1\n",
    "    net_income = income - tax\n",
    "    print('Dear {name}, your tax payable is {tax}, and your net income is {net_income}')\n",
    "    \n",
    "tax_calc(\"Bobby Tables\", \"Employee\", 100)"
   ]
  },
  {
   "cell_type": "code",
   "execution_count": 30,
   "metadata": {},
   "outputs": [
    {
     "name": "stdout",
     "output_type": "stream",
     "text": [
      "Dear Bobby Tables , your tax payable is 10.0 and your net income is {90.0}\n"
     ]
    }
   ],
   "source": [
    "#brrrr\n",
    "def tax_calc(name, business_type, income):\n",
    "    if business_type == 'LLC':\n",
    "        tax = income * 0.15\n",
    "    elif business_type == 'freelance' or business_type == 'sole proprietorship':\n",
    "        tax = income * 0.2\n",
    "    else:\n",
    "        tax = income * 0.1\n",
    "    net_income = income - tax\n",
    "    print('Dear', name, ', your tax payable is', tax, 'and your net income is', {net_income})\n",
    "    \n",
    "tax_calc(\"Bobby Tables\", \"Employee\", 100)"
   ]
  },
  {
   "cell_type": "code",
   "execution_count": 31,
   "metadata": {},
   "outputs": [
    {
     "name": "stdout",
     "output_type": "stream",
     "text": [
      "Bobby Tables employee 100\n"
     ]
    }
   ],
   "source": [
    "print(name_in, bt_in, income_in)"
   ]
  },
  {
   "cell_type": "code",
   "execution_count": 32,
   "metadata": {},
   "outputs": [
    {
     "name": "stdout",
     "output_type": "stream",
     "text": [
      "Dear Bobby Tables , your tax payable is 10.0 and your net income is {90.0}\n"
     ]
    }
   ],
   "source": [
    "tax_calc(name_in, bt_in, income_in)"
   ]
  },
  {
   "cell_type": "code",
   "execution_count": 68,
   "metadata": {},
   "outputs": [],
   "source": [
    "#hooray!"
   ]
  }
 ],
 "metadata": {
  "kernelspec": {
   "display_name": "Python 3",
   "language": "python",
   "name": "python3"
  },
  "language_info": {
   "codemirror_mode": {
    "name": "ipython",
    "version": 3
   },
   "file_extension": ".py",
   "mimetype": "text/x-python",
   "name": "python",
   "nbconvert_exporter": "python",
   "pygments_lexer": "ipython3",
   "version": "3.8.5"
  }
 },
 "nbformat": 4,
 "nbformat_minor": 4
}
