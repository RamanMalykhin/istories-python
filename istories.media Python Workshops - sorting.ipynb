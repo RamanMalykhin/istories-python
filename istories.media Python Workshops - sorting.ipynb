{
 "cells": [
  {
   "cell_type": "code",
   "execution_count": 5,
   "metadata": {},
   "outputs": [],
   "source": [
    "list1 = [6,7,3,8,1]"
   ]
  },
  {
   "cell_type": "code",
   "execution_count": 13,
   "metadata": {},
   "outputs": [
    {
     "name": "stdout",
     "output_type": "stream",
     "text": [
      "[1, 3, 6, 7, 8]\n"
     ]
    }
   ],
   "source": [
    "for j in range (len(list1)-1):\n",
    "    for i in range (len(list1)-1):\n",
    "        value1 = list1[i]\n",
    "        value2 = list1[i+1] \n",
    "        if value1 > value2:\n",
    "            list1[i] = value2\n",
    "            list1[i+1] = value1\n",
    "            \n",
    "print(list1)       "
   ]
  },
  {
   "cell_type": "code",
   "execution_count": null,
   "metadata": {},
   "outputs": [],
   "source": []
  },
  {
   "cell_type": "code",
   "execution_count": 6,
   "metadata": {},
   "outputs": [
    {
     "name": "stdout",
     "output_type": "stream",
     "text": [
      "[4, 21, 1, 3, 9, 20, 25, 6, 21, 14]\n",
      "[4, 1, 21, 3, 9, 20, 25, 6, 21, 14]\n",
      "[4, 1, 3, 21, 9, 20, 25, 6, 21, 14]\n",
      "[4, 1, 3, 9, 21, 20, 25, 6, 21, 14]\n",
      "[4, 1, 3, 9, 20, 21, 25, 6, 21, 14]\n",
      "[4, 1, 3, 9, 20, 21, 25, 6, 21, 14]\n",
      "[4, 1, 3, 9, 20, 21, 6, 25, 21, 14]\n",
      "[4, 1, 3, 9, 20, 21, 6, 21, 25, 14]\n",
      "[4, 1, 3, 9, 20, 21, 6, 21, 14, 25]\n",
      "[1, 4, 3, 9, 20, 21, 6, 21, 14, 25]\n",
      "[1, 3, 4, 9, 20, 21, 6, 21, 14, 25]\n",
      "[1, 3, 4, 9, 20, 21, 6, 21, 14, 25]\n",
      "[1, 3, 4, 9, 20, 21, 6, 21, 14, 25]\n",
      "[1, 3, 4, 9, 20, 21, 6, 21, 14, 25]\n",
      "[1, 3, 4, 9, 20, 6, 21, 21, 14, 25]\n",
      "[1, 3, 4, 9, 20, 6, 21, 21, 14, 25]\n",
      "[1, 3, 4, 9, 20, 6, 21, 14, 21, 25]\n",
      "[1, 3, 4, 9, 20, 6, 21, 14, 21, 25]\n"
     ]
    }
   ],
   "source": [
    "list1 = [21,4,1,3,9,20,25,6,21,14]\n",
    "\n",
    "for j in range (1,3,1):\n",
    "    for i in range (len(list1)-1):\n",
    "        value1 = list1[i]\n",
    "        value2 = list1[i+1]\n",
    "        if value1 > value2:\n",
    "            list1[i] = value2\n",
    "            list1[i+1] = value1\n",
    "        print(list1)\n",
    "    j += 1\n"
   ]
  },
  {
   "cell_type": "code",
   "execution_count": 9,
   "metadata": {},
   "outputs": [
    {
     "name": "stdout",
     "output_type": "stream",
     "text": [
      "[4, 1, 3, 9, 20, 21, 6, 21, 14, 25]\n",
      "[1, 3, 4, 9, 20, 6, 21, 14, 21, 25]\n",
      "[1, 3, 4, 9, 6, 20, 14, 21, 21, 25]\n"
     ]
    }
   ],
   "source": [
    "list1 = [21,4,1,3,9,20,25,6,21,14]\n",
    "\n",
    "for j in range(0,3,1):\n",
    "    for i in range(len(list1)-1):\n",
    "        value1 = list1[i]\n",
    "        value2 = list1[i+1]\n",
    "        if value1 > value2:\n",
    "            list1[i] = value2\n",
    "            list1[i+1] = value1\n",
    "    print(list1)\n",
    "    j += 1"
   ]
  },
  {
   "cell_type": "code",
   "execution_count": null,
   "metadata": {},
   "outputs": [],
   "source": []
  }
 ],
 "metadata": {
  "kernelspec": {
   "display_name": "Python 3",
   "language": "python",
   "name": "python3"
  },
  "language_info": {
   "codemirror_mode": {
    "name": "ipython",
    "version": 3
   },
   "file_extension": ".py",
   "mimetype": "text/x-python",
   "name": "python",
   "nbconvert_exporter": "python",
   "pygments_lexer": "ipython3",
   "version": "3.8.5"
  }
 },
 "nbformat": 4,
 "nbformat_minor": 4
}
