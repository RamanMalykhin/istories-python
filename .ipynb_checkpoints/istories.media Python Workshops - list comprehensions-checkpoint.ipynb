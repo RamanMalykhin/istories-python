{
 "cells": [
  {
   "cell_type": "code",
   "execution_count": 1,
   "metadata": {},
   "outputs": [
    {
     "data": {
      "text/plain": [
       "[2000,\n",
       " 2001,\n",
       " 2002,\n",
       " 2003,\n",
       " 2004,\n",
       " 2005,\n",
       " 2006,\n",
       " 2007,\n",
       " 2008,\n",
       " 2009,\n",
       " 2010,\n",
       " 2011,\n",
       " 2012,\n",
       " 2013,\n",
       " 2014,\n",
       " 2015,\n",
       " 2016,\n",
       " 2017,\n",
       " 2018,\n",
       " 2019]"
      ]
     },
     "execution_count": 1,
     "metadata": {},
     "output_type": "execute_result"
    }
   ],
   "source": [
    "years_list = [i for i in range(2000, 2020)]\n",
    "years_list"
   ]
  },
  {
   "cell_type": "code",
   "execution_count": 2,
   "metadata": {},
   "outputs": [],
   "source": [
    "poverty = [42.3, 40, 35.6, 29.3, 25.2, 25.4, 21.6, 18.8, 19, 18.4, 17.7, 17.9, 15.4, 15.5, 16.3, 19.6, 19.4, \n",
    "           18.9, 18.4, 18.1]"
   ]
  },
  {
   "cell_type": "code",
   "execution_count": 4,
   "metadata": {},
   "outputs": [],
   "source": [
    "annual_poverty = {years_list[i]:poverty[i] for i in range (0, len(poverty))}"
   ]
  },
  {
   "cell_type": "code",
   "execution_count": 5,
   "metadata": {},
   "outputs": [
    {
     "data": {
      "text/plain": [
       "{2000: 42.3,\n",
       " 2001: 40,\n",
       " 2002: 35.6,\n",
       " 2003: 29.3,\n",
       " 2004: 25.2,\n",
       " 2005: 25.4,\n",
       " 2006: 21.6,\n",
       " 2007: 18.8,\n",
       " 2008: 19,\n",
       " 2009: 18.4,\n",
       " 2010: 17.7,\n",
       " 2011: 17.9,\n",
       " 2012: 15.4,\n",
       " 2013: 15.5,\n",
       " 2014: 16.3,\n",
       " 2015: 19.6,\n",
       " 2016: 19.4,\n",
       " 2017: 18.9,\n",
       " 2018: 18.4,\n",
       " 2019: 18.1}"
      ]
     },
     "execution_count": 5,
     "metadata": {},
     "output_type": "execute_result"
    }
   ],
   "source": [
    "annual_poverty"
   ]
  },
  {
   "cell_type": "code",
   "execution_count": 6,
   "metadata": {},
   "outputs": [],
   "source": [
    "population = [146.6, 146.3, 145.2, 145, 144.3, 143.8, 143.2, 142.8, 142.8, 142.7, 142.9, 142.9, 143.0, 143.3, 143.7, \n",
    "              146.3, 146.5, 146.8, 146.9, 146.8]"
   ]
  },
  {
   "cell_type": "code",
   "execution_count": 7,
   "metadata": {},
   "outputs": [],
   "source": [
    "poverty_rates = [poverty[i]/population[i] for i in range(0, len(poverty))]"
   ]
  },
  {
   "cell_type": "code",
   "execution_count": 8,
   "metadata": {},
   "outputs": [
    {
     "data": {
      "text/plain": [
       "[0.2885402455661664,\n",
       " 0.27341079972658916,\n",
       " 0.24517906336088158,\n",
       " 0.20206896551724138,\n",
       " 0.17463617463617462,\n",
       " 0.17663421418636993,\n",
       " 0.15083798882681568,\n",
       " 0.13165266106442577,\n",
       " 0.1330532212885154,\n",
       " 0.1289418360196216,\n",
       " 0.1238628411476557,\n",
       " 0.1252624212736179,\n",
       " 0.1076923076923077,\n",
       " 0.10816468946266573,\n",
       " 0.11343075852470426,\n",
       " 0.1339712918660287,\n",
       " 0.13242320819112627,\n",
       " 0.12874659400544958,\n",
       " 0.12525527569775355,\n",
       " 0.12329700272479564]"
      ]
     },
     "execution_count": 8,
     "metadata": {},
     "output_type": "execute_result"
    }
   ],
   "source": [
    "poverty_rates"
   ]
  },
  {
   "cell_type": "code",
   "execution_count": 9,
   "metadata": {},
   "outputs": [],
   "source": [
    "annual_poverty_rates = {years_list[i]:poverty_rates[i] for i in range (0, len(poverty))}"
   ]
  },
  {
   "cell_type": "code",
   "execution_count": 18,
   "metadata": {},
   "outputs": [
    {
     "data": {
      "text/plain": [
       "{2000: 0.2885402455661664,\n",
       " 2001: 0.27341079972658916,\n",
       " 2002: 0.24517906336088158,\n",
       " 2003: 0.20206896551724138,\n",
       " 2004: 0.17463617463617462,\n",
       " 2005: 0.17663421418636993,\n",
       " 2006: 0.15083798882681568,\n",
       " 2007: 0.13165266106442577,\n",
       " 2008: 0.1330532212885154,\n",
       " 2009: 0.1289418360196216,\n",
       " 2010: 0.1238628411476557,\n",
       " 2011: 0.1252624212736179,\n",
       " 2012: 0.1076923076923077,\n",
       " 2013: 0.10816468946266573,\n",
       " 2014: 0.11343075852470426,\n",
       " 2015: 0.1339712918660287,\n",
       " 2016: 0.13242320819112627,\n",
       " 2017: 0.12874659400544958,\n",
       " 2018: 0.12525527569775355,\n",
       " 2019: 0.12329700272479564}"
      ]
     },
     "execution_count": 18,
     "metadata": {},
     "output_type": "execute_result"
    }
   ],
   "source": [
    "annual_poverty_rates"
   ]
  },
  {
   "cell_type": "code",
   "execution_count": 19,
   "metadata": {},
   "outputs": [],
   "source": [
    "apr_ll = annual_poverty_rates.items()"
   ]
  },
  {
   "cell_type": "code",
   "execution_count": 22,
   "metadata": {},
   "outputs": [],
   "source": [
    "apr_ll_s = sorted(apr_ll, key=lambda x: x[1])"
   ]
  },
  {
   "cell_type": "code",
   "execution_count": 23,
   "metadata": {},
   "outputs": [
    {
     "data": {
      "text/plain": [
       "[(2012, 0.1076923076923077),\n",
       " (2013, 0.10816468946266573),\n",
       " (2014, 0.11343075852470426),\n",
       " (2019, 0.12329700272479564),\n",
       " (2010, 0.1238628411476557),\n",
       " (2018, 0.12525527569775355),\n",
       " (2011, 0.1252624212736179),\n",
       " (2017, 0.12874659400544958),\n",
       " (2009, 0.1289418360196216),\n",
       " (2007, 0.13165266106442577),\n",
       " (2016, 0.13242320819112627),\n",
       " (2008, 0.1330532212885154),\n",
       " (2015, 0.1339712918660287),\n",
       " (2006, 0.15083798882681568),\n",
       " (2004, 0.17463617463617462),\n",
       " (2005, 0.17663421418636993),\n",
       " (2003, 0.20206896551724138),\n",
       " (2002, 0.24517906336088158),\n",
       " (2001, 0.27341079972658916),\n",
       " (2000, 0.2885402455661664)]"
      ]
     },
     "execution_count": 23,
     "metadata": {},
     "output_type": "execute_result"
    }
   ],
   "source": [
    "apr_ll_s"
   ]
  },
  {
   "cell_type": "code",
   "execution_count": null,
   "metadata": {},
   "outputs": [],
   "source": []
  }
 ],
 "metadata": {
  "kernelspec": {
   "display_name": "Python 3",
   "language": "python",
   "name": "python3"
  },
  "language_info": {
   "codemirror_mode": {
    "name": "ipython",
    "version": 3
   },
   "file_extension": ".py",
   "mimetype": "text/x-python",
   "name": "python",
   "nbconvert_exporter": "python",
   "pygments_lexer": "ipython3",
   "version": "3.8.5"
  }
 },
 "nbformat": 4,
 "nbformat_minor": 4
}
