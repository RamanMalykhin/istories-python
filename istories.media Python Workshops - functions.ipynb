{
 "cells": [
  {
   "cell_type": "code",
   "execution_count": 1,
   "metadata": {},
   "outputs": [],
   "source": [
    "def sum_function(targetlist):\n",
    "    targetsum = 0\n",
    "    n = len(targetlist)\n",
    "    \n",
    "    for i in range(0, n):\n",
    "        targetsum += targetlist[i]\n",
    "    \n",
    "    print(targetsum)\n",
    "    "
   ]
  },
  {
   "cell_type": "code",
   "execution_count": 3,
   "metadata": {},
   "outputs": [
    {
     "name": "stdout",
     "output_type": "stream",
     "text": [
      "14\n"
     ]
    }
   ],
   "source": [
    "sum_function([2,3,4,5])"
   ]
  },
  {
   "cell_type": "code",
   "execution_count": 4,
   "metadata": {},
   "outputs": [],
   "source": [
    "def getname():\n",
    "    name = input('Your name:')\n",
    "    return name"
   ]
  },
  {
   "cell_type": "code",
   "execution_count": 5,
   "metadata": {},
   "outputs": [
    {
     "name": "stdout",
     "output_type": "stream",
     "text": [
      "Your name:Raman\n"
     ]
    },
    {
     "data": {
      "text/plain": [
       "'Raman'"
      ]
     },
     "execution_count": 5,
     "metadata": {},
     "output_type": "execute_result"
    }
   ],
   "source": [
    "getname()"
   ]
  },
  {
   "cell_type": "code",
   "execution_count": 6,
   "metadata": {},
   "outputs": [],
   "source": [
    "def say_hi(name):\n",
    "    print(\"Hello, \", name, \"!\")\n"
   ]
  },
  {
   "cell_type": "code",
   "execution_count": 7,
   "metadata": {},
   "outputs": [
    {
     "name": "stdout",
     "output_type": "stream",
     "text": [
      "Your name:Raman\n",
      "Hello,  Raman !\n"
     ]
    }
   ],
   "source": [
    "say_hi(getname())"
   ]
  },
  {
   "cell_type": "code",
   "execution_count": 8,
   "metadata": {},
   "outputs": [],
   "source": [
    "def say_hi(name, small_talk = \"What's up?\"):\n",
    "    print(\"Hello,\", name,\"!\",small_talk)"
   ]
  },
  {
   "cell_type": "code",
   "execution_count": 9,
   "metadata": {},
   "outputs": [
    {
     "name": "stdout",
     "output_type": "stream",
     "text": [
      "Your name:Rmana\n",
      "Hello, Rmana ! What's up?\n"
     ]
    }
   ],
   "source": [
    "say_hi(getname())"
   ]
  },
  {
   "cell_type": "code",
   "execution_count": 18,
   "metadata": {},
   "outputs": [],
   "source": [
    "def clean(dirty_number):\n",
    "    cleaned_number=dirty_number.replace(' ','').replace(\"-\",'').replace('(','').replace(')','')\n"
   ]
  },
  {
   "cell_type": "code",
   "execution_count": 19,
   "metadata": {},
   "outputs": [],
   "source": [
    "clean('8-(987)-657 12 11')"
   ]
  },
  {
   "cell_type": "code",
   "execution_count": 15,
   "metadata": {},
   "outputs": [],
   "source": [
    "phone_book = {'Alice': '8-987-657 12 11', 'Bob':'89012345678', 'Jack':'8 (9 1 2) 3 4 5 6 7 8 9'}"
   ]
  },
  {
   "cell_type": "code",
   "execution_count": 31,
   "metadata": {},
   "outputs": [
    {
     "name": "stdout",
     "output_type": "stream",
     "text": [
      "{'Alice': 89876571211, 'Bob': 89012345678, 'Jack': 89123456789}\n"
     ]
    }
   ],
   "source": [
    "def clean(dirty_number):\n",
    "    cleaned_number=dirty_number.replace(' ','').replace(\"-\",'').replace('(','').replace(')','')\n",
    "    return cleaned_number\n",
    "\n",
    "names = list(phone_book.keys())\n",
    "dirty_numbers = list(phone_book.values())\n",
    "n = len(phone_book)\n",
    "cleaned_pb = dict()\n",
    "\n",
    "i = 0\n",
    "for i in range(0, n):\n",
    "    cleaned_pb[names[i]] = int(clean(dirty_numbers[i]))\n",
    "\n",
    "print(cleaned_pb)"
   ]
  },
  {
   "cell_type": "code",
   "execution_count": null,
   "metadata": {},
   "outputs": [],
   "source": []
  }
 ],
 "metadata": {
  "kernelspec": {
   "display_name": "Python 3",
   "language": "python",
   "name": "python3"
  },
  "language_info": {
   "codemirror_mode": {
    "name": "ipython",
    "version": 3
   },
   "file_extension": ".py",
   "mimetype": "text/x-python",
   "name": "python",
   "nbconvert_exporter": "python",
   "pygments_lexer": "ipython3",
   "version": "3.8.5"
  }
 },
 "nbformat": 4,
 "nbformat_minor": 4
}
